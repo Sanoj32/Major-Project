{
 "cells": [
  {
   "cell_type": "code",
   "execution_count": 11,
   "metadata": {},
   "outputs": [
    {
     "name": "stdout",
     "output_type": "stream",
     "text": [
      "link\n",
      "http://www.1ropani.com/HouseDetail.aspx?ID=8585\n",
      "http://www.1ropani.com/HouseDetail.aspx?ID=8582\n",
      "http://www.1ropani.com/HouseDetail.aspx?ID=8578\n",
      "http://www.1ropani.com/HouseDetail.aspx?ID=8576\n",
      "http://www.1ropani.com/HouseDetail.aspx?ID=8575\n",
      "http://www.1ropani.com/HouseDetail.aspx?ID=8573\n",
      "http://www.1ropani.com/HouseDetail.aspx?ID=8568\n",
      "http://www.1ropani.com/HouseDetail.aspx?ID=8567\n",
      "http://www.1ropani.com/HouseDetail.aspx?ID=8566\n",
      "http://www.1ropani.com/HouseDetail.aspx?ID=8562\n",
      "http://www.1ropani.com/HouseDetail.aspx?ID=8561\n",
      "http://www.1ropani.com/HouseDetail.aspx?ID=8552\n",
      "http://www.1ropani.com/HouseDetail.aspx?ID=8547\n",
      "http://www.1ropani.com/HouseDetail.aspx?ID=8539\n",
      "http://www.1ropani.com/HouseDetail.aspx?ID=8537\n",
      "http://www.1ropani.com/HouseDetail.aspx?ID=8535\n",
      "http://www.1ropani.com/HouseDetail.aspx?ID=8533\n",
      "http://www.1ropani.com/HouseDetail.aspx?ID=8529\n",
      "http://www.1ropani.com/HouseDetail.aspx?ID=8526\n",
      "http://www.1ropani.com/HouseDetail.aspx?ID=8518\n",
      "http://www.1ropani.com/HouseDetail.aspx?ID=8517\n",
      "http://www.1ropani.com/HouseDetail.aspx?ID=8512\n",
      "http://www.1ropani.com/HouseDetail.aspx?ID=8511\n",
      "http://www.1ropani.com/HouseDetail.aspx?ID=8507\n",
      "http://www.1ropani.com/HouseDetail.aspx?ID=8505\n",
      "http://www.1ropani.com/HouseDetail.aspx?ID=8500\n",
      "http://www.1ropani.com/HouseDetail.aspx?ID=8497\n",
      "http://www.1ropani.com/HouseDetail.aspx?ID=8496\n",
      "http://www.1ropani.com/HouseDetail.aspx?ID=8495\n",
      "http://www.1ropani.com/HouseDetail.aspx?ID=8486\n",
      "http://www.1ropani.com/HouseDetail.aspx?ID=8485\n",
      "http://www.1ropani.com/HouseDetail.aspx?ID=8484\n",
      "http://www.1ropani.com/HouseDetail.aspx?ID=8483\n",
      "http://www.1ropani.com/HouseDetail.aspx?ID=8480\n",
      "http://www.1ropani.com/HouseDetail.aspx?ID=8477\n",
      "http://www.1ropani.com/HouseDetail.aspx?ID=8469\n",
      "http://www.1ropani.com/HouseDetail.aspx?ID=8468\n",
      "http://www.1ropani.com/HouseDetail.aspx?ID=8463\n",
      "http://www.1ropani.com/HouseDetail.aspx?ID=8460\n",
      "http://www.1ropani.com/HouseDetail.aspx?ID=8459\n",
      "http://www.1ropani.com/HouseDetail.aspx?ID=8456\n",
      "http://www.1ropani.com/HouseDetail.aspx?ID=8453\n",
      "http://www.1ropani.com/HouseDetail.aspx?ID=8452\n",
      "http://www.1ropani.com/HouseDetail.aspx?ID=8451\n",
      "http://www.1ropani.com/HouseDetail.aspx?ID=8450\n",
      "http://www.1ropani.com/HouseDetail.aspx?ID=8446\n",
      "http://www.1ropani.com/HouseDetail.aspx?ID=8445\n",
      "http://www.1ropani.com/HouseDetail.aspx?ID=8444\n",
      "http://www.1ropani.com/HouseDetail.aspx?ID=8442\n",
      "http://www.1ropani.com/HouseDetail.aspx?ID=8441\n",
      "http://www.1ropani.com/HouseDetail.aspx?ID=8440\n",
      "http://www.1ropani.com/HouseDetail.aspx?ID=8439\n",
      "http://www.1ropani.com/HouseDetail.aspx?ID=8438\n",
      "http://www.1ropani.com/HouseDetail.aspx?ID=8434\n",
      "http://www.1ropani.com/HouseDetail.aspx?ID=8428\n",
      "http://www.1ropani.com/HouseDetail.aspx?ID=8425\n",
      "http://www.1ropani.com/HouseDetail.aspx?ID=8419\n",
      "http://www.1ropani.com/HouseDetail.aspx?ID=8413\n",
      "http://www.1ropani.com/HouseDetail.aspx?ID=8408\n",
      "http://www.1ropani.com/HouseDetail.aspx?ID=8405\n",
      "http://www.1ropani.com/HouseDetail.aspx?ID=8399\n",
      "http://www.1ropani.com/HouseDetail.aspx?ID=8397\n",
      "http://www.1ropani.com/HouseDetail.aspx?ID=8387\n",
      "http://www.1ropani.com/HouseDetail.aspx?ID=8384\n",
      "http://www.1ropani.com/HouseDetail.aspx?ID=8381\n",
      "http://www.1ropani.com/HouseDetail.aspx?ID=8380\n",
      "http://www.1ropani.com/HouseDetail.aspx?ID=8378\n"
     ]
    },
    {
     "ename": "UnicodeDecodeError",
     "evalue": "'charmap' codec can't decode byte 0x8d in position 3495: character maps to <undefined>",
     "output_type": "error",
     "traceback": [
      "\u001b[1;31m---------------------------------------------------------------------------\u001b[0m",
      "\u001b[1;31mUnicodeDecodeError\u001b[0m                        Traceback (most recent call last)",
      "\u001b[1;32m<ipython-input-11-0bc0bc98b65b>\u001b[0m in \u001b[0;36m<module>\u001b[1;34m\u001b[0m\n\u001b[0;32m      6\u001b[0m \u001b[1;32mwith\u001b[0m \u001b[0mopen\u001b[0m\u001b[1;33m(\u001b[0m\u001b[1;34m'csv-files/1Ropani_complete.csv'\u001b[0m\u001b[1;33m)\u001b[0m \u001b[1;32mas\u001b[0m \u001b[0mf\u001b[0m\u001b[1;33m:\u001b[0m\u001b[1;33m\u001b[0m\u001b[1;33m\u001b[0m\u001b[0m\n\u001b[0;32m      7\u001b[0m     \u001b[0mreader\u001b[0m \u001b[1;33m=\u001b[0m \u001b[0mcsv\u001b[0m\u001b[1;33m.\u001b[0m\u001b[0mreader\u001b[0m\u001b[1;33m(\u001b[0m\u001b[0mf\u001b[0m\u001b[1;33m)\u001b[0m\u001b[1;33m\u001b[0m\u001b[1;33m\u001b[0m\u001b[0m\n\u001b[1;32m----> 8\u001b[1;33m     \u001b[1;32mfor\u001b[0m \u001b[0mrow\u001b[0m \u001b[1;32min\u001b[0m \u001b[0mreader\u001b[0m\u001b[1;33m:\u001b[0m\u001b[1;33m\u001b[0m\u001b[1;33m\u001b[0m\u001b[0m\n\u001b[0m\u001b[0;32m      9\u001b[0m         \u001b[0mprint\u001b[0m\u001b[1;33m(\u001b[0m\u001b[0mrow\u001b[0m\u001b[1;33m[\u001b[0m\u001b[1;33m-\u001b[0m\u001b[1;36m1\u001b[0m\u001b[1;33m]\u001b[0m\u001b[1;33m)\u001b[0m\u001b[1;33m\u001b[0m\u001b[1;33m\u001b[0m\u001b[0m\n",
      "\u001b[1;32m~\\anaconda3\\lib\\encodings\\cp1252.py\u001b[0m in \u001b[0;36mdecode\u001b[1;34m(self, input, final)\u001b[0m\n\u001b[0;32m     21\u001b[0m \u001b[1;32mclass\u001b[0m \u001b[0mIncrementalDecoder\u001b[0m\u001b[1;33m(\u001b[0m\u001b[0mcodecs\u001b[0m\u001b[1;33m.\u001b[0m\u001b[0mIncrementalDecoder\u001b[0m\u001b[1;33m)\u001b[0m\u001b[1;33m:\u001b[0m\u001b[1;33m\u001b[0m\u001b[1;33m\u001b[0m\u001b[0m\n\u001b[0;32m     22\u001b[0m     \u001b[1;32mdef\u001b[0m \u001b[0mdecode\u001b[0m\u001b[1;33m(\u001b[0m\u001b[0mself\u001b[0m\u001b[1;33m,\u001b[0m \u001b[0minput\u001b[0m\u001b[1;33m,\u001b[0m \u001b[0mfinal\u001b[0m\u001b[1;33m=\u001b[0m\u001b[1;32mFalse\u001b[0m\u001b[1;33m)\u001b[0m\u001b[1;33m:\u001b[0m\u001b[1;33m\u001b[0m\u001b[1;33m\u001b[0m\u001b[0m\n\u001b[1;32m---> 23\u001b[1;33m         \u001b[1;32mreturn\u001b[0m \u001b[0mcodecs\u001b[0m\u001b[1;33m.\u001b[0m\u001b[0mcharmap_decode\u001b[0m\u001b[1;33m(\u001b[0m\u001b[0minput\u001b[0m\u001b[1;33m,\u001b[0m\u001b[0mself\u001b[0m\u001b[1;33m.\u001b[0m\u001b[0merrors\u001b[0m\u001b[1;33m,\u001b[0m\u001b[0mdecoding_table\u001b[0m\u001b[1;33m)\u001b[0m\u001b[1;33m[\u001b[0m\u001b[1;36m0\u001b[0m\u001b[1;33m]\u001b[0m\u001b[1;33m\u001b[0m\u001b[1;33m\u001b[0m\u001b[0m\n\u001b[0m\u001b[0;32m     24\u001b[0m \u001b[1;33m\u001b[0m\u001b[0m\n\u001b[0;32m     25\u001b[0m \u001b[1;32mclass\u001b[0m \u001b[0mStreamWriter\u001b[0m\u001b[1;33m(\u001b[0m\u001b[0mCodec\u001b[0m\u001b[1;33m,\u001b[0m\u001b[0mcodecs\u001b[0m\u001b[1;33m.\u001b[0m\u001b[0mStreamWriter\u001b[0m\u001b[1;33m)\u001b[0m\u001b[1;33m:\u001b[0m\u001b[1;33m\u001b[0m\u001b[1;33m\u001b[0m\u001b[0m\n",
      "\u001b[1;31mUnicodeDecodeError\u001b[0m: 'charmap' codec can't decode byte 0x8d in position 3495: character maps to <undefined>"
     ]
    }
   ],
   "source": [
    "import numpy as np\n",
    "import matplotlib.pyplot as plt\n",
    "import csv\n",
    "\n",
    "lists = []\n",
    "with open('csv-files/1Ropani_complete.csv') as f:\n",
    "    reader = csv.reader(f)\n",
    "    for row in reader:\n",
    "        print(row[-1])\n"
   ]
  },
  {
   "cell_type": "code",
   "execution_count": null,
   "metadata": {},
   "outputs": [],
   "source": []
  }
 ],
 "metadata": {
  "kernelspec": {
   "display_name": "Python 3",
   "language": "python",
   "name": "python3"
  },
  "language_info": {
   "codemirror_mode": {
    "name": "ipython",
    "version": 3
   },
   "file_extension": ".py",
   "mimetype": "text/x-python",
   "name": "python",
   "nbconvert_exporter": "python",
   "pygments_lexer": "ipython3",
   "version": "3.8.5"
  }
 },
 "nbformat": 4,
 "nbformat_minor": 2
}
