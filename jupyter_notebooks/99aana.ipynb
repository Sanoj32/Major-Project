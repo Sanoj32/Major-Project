{
 "cells": [
  {
   "cell_type": "markdown",
   "metadata": {},
   "source": [
    "# CLeaning 99aana data"
   ]
  },
  {
   "cell_type": "markdown",
   "metadata": {},
   "source": [
    "# General FAQs\n",
    "There are a lot of units of measurements used in Nepalese Land Measurements in Nepal. They are \n",
    "Ropani Aana Paisa Dam Katha Dhur etc and we convert them in square feet for a general unit of\n",
    "measurement. \n",
    "<br>\n",
    "Ropani aaana paisa and dam ususally come together or only by themselves or in a combination.\n",
    "<br>\n",
    "Katha and dhur usually come together or only by themselves."
   ]
  },
  {
   "cell_type": "code",
   "execution_count": 107,
   "metadata": {},
   "outputs": [],
   "source": [
    "import pandas as pd\n",
    "# pd.set_option('display.max_colwidth', None)"
   ]
  },
  {
   "cell_type": "code",
   "execution_count": 108,
   "metadata": {},
   "outputs": [],
   "source": [
    "df = pd.read_csv('../csv_files/raw/99aana.csv',encoding='utf-8')"
   ]
  },
  {
   "cell_type": "code",
   "execution_count": 109,
   "metadata": {},
   "outputs": [],
   "source": [
    "# remove sq m\n",
    "df['area'] =  df['area'].apply(lambda x: x.split('sq m')[1])"
   ]
  },
  {
   "cell_type": "code",
   "execution_count": 110,
   "metadata": {},
   "outputs": [],
   "source": [
    "pd.set_option('display.max_rows', None)\n",
    "#dhur/dhir paisa kattha haat aana daam\n",
    "# dealing with ropani-aana-paisa-dam first \n",
    "def clean_dashed(x):\n",
    "    area = 0 # in sq feet\n",
    "    if x.count('-') == 2:\n",
    "        return None\n",
    "    if x.count('-') == 3:\n",
    "        y = x.split('-')\n",
    "        # converting the splited value into integer\n",
    "        for i in range(0, len(y)):\n",
    "            y[i] = float(y[i])\n",
    "        area = area + 5476 * y[0]   #ropani to sq ft\n",
    "        area = area + 342.25 * y[1] #aana to sq ft\n",
    "        area = area + 85.56 * y[2]  #paisa to sq ft\n",
    "        area = area + 21.39 * y[3]  #dam to sq ft\n",
    "        area = round(area,2)\n",
    "        return str(area)\n",
    "    else:\n",
    "        return x\n",
    "df['area'] =  df['area'].apply(clean_dashed)\n",
    "df.dropna(subset=['area'],inplace = True)"
   ]
  },
  {
   "cell_type": "code",
   "execution_count": 111,
   "metadata": {},
   "outputs": [],
   "source": [
    "# clean kattha and dhur\n",
    "def clean_katha_and_dhur(x):\n",
    "    area = 0 # in sq ft\n",
    "    if x == None:\n",
    "        return x\n",
    "    x = x.lower()  # conversion to lowercase to make it convinient if a substring exists in a string.\n",
    "    # Cleaned spelling mistakes with vscode\n",
    "    # 1 Katha is equal to 3645 sq ft.\n",
    "    # 1 Dhur is equal to 182.25 sq ft.\n",
    "    if 'katha' in x and 'dhur' in x:\n",
    "        katha = float(x.split('katha')[0].strip())\n",
    "        dhur = float(x.split('katha')[1].split('dhur')[0].strip())\n",
    "        area = area + katha * 3645\n",
    "        area = area + dhur * 182.25\n",
    "\n",
    "        area = round(area,2)\n",
    "        return str(area)\n",
    "        \n",
    "    if 'katha' in x:\n",
    "        katha = float(x.split('katha')[0])\n",
    "        area = area + 3645 * katha\n",
    "        area = round(area,2)\n",
    "        return str(area)\n",
    "    if 'dhur' in x:\n",
    "        dhur = float(x.split('dhur')[0])\n",
    "        area = area + dhur * 182.25\n",
    "        area = round(area,2)\n",
    "        return str(area)\n",
    "    return x\n",
    "df['area'] = df['area'].apply(clean_katha_and_dhur)"
   ]
  },
  {
   "cell_type": "code",
   "execution_count": 112,
   "metadata": {},
   "outputs": [],
   "source": [
    "# clean ropani aana paisa dam\n",
    "# 1 Ropani = sq feet\n",
    "# 1 Aana = 342.25 sq feet\n",
    "# 1 Paisa = 85.56 sq feet\n",
    "# 1 Dam = sq feet\n",
    "# 3 aana 3 paisa\n",
    "# All data containing dam was removed due to easier data cleaning. Now only dealing with aana and paisa\n",
    "def clean_RAPD(x):\n",
    "    area = 0\n",
    "    x = x.lower()\n",
    "    if 'aana' in x and 'paisa' in x:\n",
    "        aana = float(x.split('aana')[0].strip())\n",
    "        paisa = float(x.split('aana')[1].split('paisa')[0].strip())\n",
    "        area = area + aana * 342.25\n",
    "        area = area + paisa * 85.56\n",
    "        area = round(area,2)\n",
    "        return str(area)\n",
    "    if 'aana' in x:\n",
    "        aana = float(x.split('aana')[0].strip())\n",
    "        area = area + aana * 342.25\n",
    "        area = round(area,2)\n",
    "        return str(area)\n",
    "    return x\n",
    "    # paisa does not come on it's own so we don't to write code for only paisa data edge case\n",
    "df['area'] = df['area'].apply(clean_RAPD)\n"
   ]
  }
 ],
 "metadata": {
  "kernelspec": {
   "display_name": "Python 3",
   "language": "python",
   "name": "python3"
  },
  "language_info": {
   "codemirror_mode": {
    "name": "ipython",
    "version": 3
   },
   "file_extension": ".py",
   "mimetype": "text/x-python",
   "name": "python",
   "nbconvert_exporter": "python",
   "pygments_lexer": "ipython3",
   "version": "3.8.5"
  }
 },
 "nbformat": 4,
 "nbformat_minor": 4
}
